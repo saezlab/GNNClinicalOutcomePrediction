{
 "cells": [
  {
   "cell_type": "code",
   "execution_count": 7,
   "metadata": {},
   "outputs": [],
   "source": [
    "import os\n",
    "import torch\n",
    "import pandas as pd\n",
    "from dataset import TissueDataset\n",
    "from sklearn.model_selection import GroupKFold"
   ]
  },
  {
   "cell_type": "code",
   "execution_count": 8,
   "metadata": {},
   "outputs": [
    {
     "name": "stdout",
     "output_type": "stream",
     "text": [
      "Target prediction: OSmonth\n"
     ]
    }
   ],
   "source": [
    "dataset = TissueDataset(os.path.join(\"../data/JacksonFischer/month\"), \"month\")"
   ]
  },
  {
   "cell_type": "code",
   "execution_count": 9,
   "metadata": {},
   "outputs": [],
   "source": [
    "lst_groups = []\n",
    "for item in dataset:\n",
    "    lst_groups.append([item.p_id, item.img_id, item.clinical_type, item.tumor_grade, item.osmonth])\n",
    "\n",
    "df_dataset = pd.DataFrame(lst_groups, columns=[\"p_id\", \"img_id\", \"clinical_type\", \"tumor_grade\", \"osmonth\"])\n"
   ]
  },
  {
   "cell_type": "code",
   "execution_count": 10,
   "metadata": {},
   "outputs": [
    {
     "data": {
      "text/plain": [
       "5"
      ]
     },
     "execution_count": 10,
     "metadata": {},
     "output_type": "execute_result"
    }
   ],
   "source": [
    "group_kfold = GroupKFold(n_splits=5)\n",
    "group_kfold.get_n_splits(X=df_dataset[\"tumor_grade\"], groups = df_dataset[\"p_id\"])"
   ]
  },
  {
   "cell_type": "code",
   "execution_count": 46,
   "metadata": {},
   "outputs": [
    {
     "name": "stdout",
     "output_type": "stream",
     "text": [
      "Fold 0:\n",
      "set()\n",
      "584\n",
      "147\n",
      "Fold 1:\n",
      "set()\n",
      "585\n",
      "146\n",
      "Fold 2:\n",
      "set()\n",
      "585\n",
      "146\n",
      "Fold 3:\n",
      "set()\n",
      "585\n",
      "146\n",
      "Fold 4:\n",
      "set()\n",
      "585\n",
      "146\n"
     ]
    }
   ],
   "source": [
    "for i, (train_index, test_index) in enumerate(group_kfold.split(X = df_dataset[\"tumor_grade\"], groups = df_dataset[\"p_id\"])):\n",
    "    print(f\"Fold {i}:\")\n",
    "    # print(f\"  Train: index={train_index}\")\n",
    "    # row_indices = list(train_index)\n",
    "    # print(row_indices)\n",
    "    train_pids = df_dataset.iloc[train_index][\"p_id\"]\n",
    "    test_pids = df_dataset.iloc[test_index][\"p_id\"]\n",
    "    # print(set(train_pids))\n",
    "    # print(set(test_pids))\n",
    "    #print(set([1,2,3,4])& set([3,4,56,7]))\n",
    "    print(set(train_pids)& set(test_pids))\n",
    "    print(len(train_pids))\n",
    "    print(len(test_pids))\n",
    "    \n",
    "\n",
    "    # print(df_dataset.iloc(train_index))\n",
    "    # print(f\"  Test:  index={test_index}, group={df_dataset[\"p_id\"][test_index]}\")"
   ]
  },
  {
   "cell_type": "code",
   "execution_count": 30,
   "metadata": {},
   "outputs": [
    {
     "name": "stdout",
     "output_type": "stream",
     "text": [
      "   Column1 Column2\n",
      "1       20       B\n",
      "3       40       D\n"
     ]
    }
   ],
   "source": [
    "import pandas as pd\n",
    "\n",
    "# Assuming you have a DataFrame named 'your_dataframe'\n",
    "your_dataframe = pd.DataFrame({\n",
    "    'Column1': [10, 20, 30, 40],\n",
    "    'Column2': ['A', 'B', 'C', 'D']\n",
    "})\n",
    "\n",
    "# List of row indices to retrieve\n",
    "row_indices = [1, 3]\n",
    "\n",
    "# Use iloc to get the rows based on indices\n",
    "selected_rows = your_dataframe.iloc[row_indices]\n",
    "\n",
    "# Display the selected rows\n",
    "print(selected_rows)"
   ]
  },
  {
   "cell_type": "code",
   "execution_count": null,
   "metadata": {},
   "outputs": [],
   "source": []
  }
 ],
 "metadata": {
  "kernelspec": {
   "display_name": "py_gem",
   "language": "python",
   "name": "python3"
  },
  "language_info": {
   "codemirror_mode": {
    "name": "ipython",
    "version": 3
   },
   "file_extension": ".py",
   "mimetype": "text/x-python",
   "name": "python",
   "nbconvert_exporter": "python",
   "pygments_lexer": "ipython3",
   "version": "3.10.12"
  }
 },
 "nbformat": 4,
 "nbformat_minor": 2
}
