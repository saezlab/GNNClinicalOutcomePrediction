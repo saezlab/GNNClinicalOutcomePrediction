{
 "cells": [
  {
   "cell_type": "code",
   "execution_count": null,
   "metadata": {},
   "outputs": [],
   "source": [
    "import os\n",
    "import torch\n",
    "import pandas as pd\n",
    "from dataset import TissueDataset\n",
    "from sklearn.model_selection import GroupKFold"
   ]
  },
  {
   "cell_type": "code",
   "execution_count": null,
   "metadata": {},
   "outputs": [],
   "source": [
    "dataset = TissueDataset(os.path.join(\"../data/JacksonFischer/month\"), \"month\")"
   ]
  },
  {
   "cell_type": "code",
   "execution_count": null,
   "metadata": {},
   "outputs": [],
   "source": [
    "lst_groups = []\n",
    "for item in dataset:\n",
    "    lst_groups.append([item.p_id, item.img_id, item.clinical_type, item.tumor_grade, item.osmonth])\n",
    "\n",
    "df_dataset = pd.DataFrame(lst_groups, columns=[\"p_id\", \"img_id\", \"clinical_type\", \"tumor_grade\", \"osmonth\"])\n"
   ]
  },
  {
   "cell_type": "code",
   "execution_count": null,
   "metadata": {},
   "outputs": [],
   "source": [
    "group_kfold = GroupKFold(n_splits=5)\n",
    "group_kfold.get_n_splits(X=df_dataset[\"tumor_grade\"], groups = df_dataset[\"p_id\"])"
   ]
  },
  {
   "cell_type": "code",
   "execution_count": null,
   "metadata": {},
   "outputs": [],
   "source": [
    "for i, (train_index, test_index) in enumerate(group_kfold.split(X = df_dataset[\"tumor_grade\"], groups = df_dataset[\"p_id\"])):\n",
    "    print(f\"Fold {i}:\")\n",
    "    # print(f\"  Train: index={train_index}\")\n",
    "    # row_indices = list(train_index)\n",
    "    # print(row_indices)\n",
    "    train_pids = df_dataset.iloc[train_index][\"p_id\"]\n",
    "    test_pids = df_dataset.iloc[test_index][\"p_id\"]\n",
    "    # print(set(train_pids))\n",
    "    # print(set(test_pids))\n",
    "    #print(set([1,2,3,4])& set([3,4,56,7]))\n",
    "    print(set(train_pids)& set(test_pids))\n",
    "    print(len(train_pids))\n",
    "    print(len(test_pids))\n",
    "    \n",
    "\n",
    "    # print(df_dataset.iloc(train_index))\n",
    "    # print(f\"  Test:  index={test_index}, group={df_dataset[\"p_id\"][test_index]}\")"
   ]
  },
  {
   "cell_type": "code",
   "execution_count": null,
   "metadata": {},
   "outputs": [],
   "source": [
    "import pandas as pd\n",
    "\n",
    "# Assuming you have a DataFrame named 'your_dataframe'\n",
    "your_dataframe = pd.DataFrame({\n",
    "    'Column1': [10, 20, 30, 40],\n",
    "    'Column2': ['A', 'B', 'C', 'D']\n",
    "})\n",
    "\n",
    "# List of row indices to retrieve\n",
    "row_indices = [1, 3]\n",
    "\n",
    "# Use iloc to get the rows based on indices\n",
    "selected_rows = your_dataframe.iloc[row_indices]\n",
    "\n",
    "# Display the selected rows\n",
    "print(selected_rows)"
   ]
  },
  {
   "cell_type": "code",
   "execution_count": 1,
   "metadata": {},
   "outputs": [
    {
     "name": "stderr",
     "output_type": "stream",
     "text": [
      "Seed set to 42\n"
     ]
    },
    {
     "name": "stdout",
     "output_type": "stream",
     "text": [
      "Target prediction: OSmonth\n"
     ]
    }
   ],
   "source": [
    "import json\n",
    "import os\n",
    "import custom_tools\n",
    "from dataset import TissueDataset\n",
    "dataset = TissueDataset(os.path.join(\"../data/JacksonFischer/month\"), \"month\")"
   ]
  },
  {
   "cell_type": "code",
   "execution_count": 2,
   "metadata": {},
   "outputs": [
    {
     "data": {
      "text/plain": [
       "[('fold_0',\n",
       "  <torch.utils.data.sampler.SubsetRandomSampler at 0x7f505ea35290>,\n",
       "  <torch.utils.data.sampler.SubsetRandomSampler at 0x7f506c927c10>),\n",
       " ('fold_1',\n",
       "  <torch.utils.data.sampler.SubsetRandomSampler at 0x7f505e56b5d0>,\n",
       "  <torch.utils.data.sampler.SubsetRandomSampler at 0x7f505e56b650>),\n",
       " ('fold_2',\n",
       "  <torch.utils.data.sampler.SubsetRandomSampler at 0x7f505ec53790>,\n",
       "  <torch.utils.data.sampler.SubsetRandomSampler at 0x7f505e56b8d0>),\n",
       " ('fold_3',\n",
       "  <torch.utils.data.sampler.SubsetRandomSampler at 0x7f505e56bc50>,\n",
       "  <torch.utils.data.sampler.SubsetRandomSampler at 0x7f505e56bcd0>),\n",
       " ('fold_4',\n",
       "  <torch.utils.data.sampler.SubsetRandomSampler at 0x7f505e56bfd0>,\n",
       "  <torch.utils.data.sampler.SubsetRandomSampler at 0x7f505e56b6d0>),\n",
       " ('fold_5',\n",
       "  <torch.utils.data.sampler.SubsetRandomSampler at 0x7f505e56b810>,\n",
       "  <torch.utils.data.sampler.SubsetRandomSampler at 0x7f505e56ac10>),\n",
       " ('fold_6',\n",
       "  <torch.utils.data.sampler.SubsetRandomSampler at 0x7f505e57c710>,\n",
       "  <torch.utils.data.sampler.SubsetRandomSampler at 0x7f505e57c790>),\n",
       " ('fold_7',\n",
       "  <torch.utils.data.sampler.SubsetRandomSampler at 0x7f505e57ca50>,\n",
       "  <torch.utils.data.sampler.SubsetRandomSampler at 0x7f505e57cad0>),\n",
       " ('fold_8',\n",
       "  <torch.utils.data.sampler.SubsetRandomSampler at 0x7f505e57cd90>,\n",
       "  <torch.utils.data.sampler.SubsetRandomSampler at 0x7f505e57ce10>),\n",
       " ('fold_9',\n",
       "  <torch.utils.data.sampler.SubsetRandomSampler at 0x7f505e57d090>,\n",
       "  <torch.utils.data.sampler.SubsetRandomSampler at 0x7f505e57d110>)]"
      ]
     },
     "execution_count": 2,
     "metadata": {},
     "output_type": "execute_result"
    }
   ],
   "source": [
    "custom_tools.get_n_fold_split(dataset)"
   ]
  },
  {
   "cell_type": "code",
   "execution_count": null,
   "metadata": {},
   "outputs": [],
   "source": [
    "json_fl = custom_tools.load_json(\"/home/rifaioglu/projects/GNNClinicalOutcomePrediction/models/JacksonFischer_Final/9i_TRmnCWCG1fM7hZMby_Q.json\")"
   ]
  },
  {
   "cell_type": "code",
   "execution_count": null,
   "metadata": {},
   "outputs": [],
   "source": [
    "# List to save sampler triplet\n",
    "samplers = []\n",
    "\n",
    "for fold in json_fl[\"fold_img_id_dict\"]:\n",
    "    train_idx = df_dataset.loc[df_dataset.img_id.isin(json_fl[\"fold_img_id_dict\"][fold][0]),:].index\n",
    "    test_idx = df_dataset.loc[df_dataset.img_id.isin(json_fl[\"fold_img_id_dict\"][fold][1]),:].index\n",
    "    samplers.append((\n",
    "            (fold), # fold number\n",
    "            (torch.utils.data.SubsetRandomSampler(train_idx)),\n",
    "            (torch.utils.data.SubsetRandomSampler(test_idx))))\n",
    "\n",
    "print(samplers)"
   ]
  },
  {
   "cell_type": "code",
   "execution_count": null,
   "metadata": {},
   "outputs": [],
   "source": [
    "lst_groups = []\n",
    "for ind, item in enumerate(dataset):\n",
    "    lst_groups.append([item.p_id, item.img_id, item.clinical_type, item.tumor_grade, item.osmonth])"
   ]
  },
  {
   "cell_type": "code",
   "execution_count": null,
   "metadata": {},
   "outputs": [],
   "source": [
    "import pandas as pd\n",
    "df_dataset = pd.DataFrame(lst_groups, columns=[\"p_id\", \"img_id\", \"clinical_type\", \"tumor_grade\", \"osmonth\"])"
   ]
  },
  {
   "cell_type": "code",
   "execution_count": null,
   "metadata": {},
   "outputs": [],
   "source": []
  },
  {
   "cell_type": "code",
   "execution_count": null,
   "metadata": {},
   "outputs": [],
   "source": []
  },
  {
   "cell_type": "code",
   "execution_count": null,
   "metadata": {},
   "outputs": [],
   "source": []
  },
  {
   "cell_type": "code",
   "execution_count": null,
   "metadata": {},
   "outputs": [],
   "source": []
  }
 ],
 "metadata": {
  "kernelspec": {
   "display_name": "py_gem",
   "language": "python",
   "name": "python3"
  },
  "language_info": {
   "codemirror_mode": {
    "name": "ipython",
    "version": 3
   },
   "file_extension": ".py",
   "mimetype": "text/x-python",
   "name": "python",
   "nbconvert_exporter": "python",
   "pygments_lexer": "ipython3",
   "version": "3.11.5"
  }
 },
 "nbformat": 4,
 "nbformat_minor": 2
}
